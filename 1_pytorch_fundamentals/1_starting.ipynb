{
 "cells": [
  {
   "cell_type": "markdown",
   "metadata": {},
   "source": [
    "# Deep Learning with Pytorch\n",
    "##### By Md. Rishat Talukder\n",
    "\n",
    "`Pytorch` is the successor of `Torch` which is an open-source machine learning library based on the `Torch` library. It is used for applications such as `natural language processing(LLM)`, `computer vision`, `audio processing`, etc. It is primarily developed by `Facebook's AI Research lab (FAIR)`.\n",
    "\n",
    "`Pytorch` is a `deep learning framework` that provides a flexible and dynamic computational graph. It is a `Python-based scientific computing package` that uses the power of `GPUs`. It is also one of the preferred deep learning research platforms built to provide flexibility as a deep learning research platform.\n",
    "\n",
    "If you have prior knowledge of `Deep Learning` and `Neural Networks` you should have heard the name of `Tensorflow` which is another popular deep learning framework. The main difference between `Pytorch` and `Tensorflow` is that `Pytorch` uses dynamic computation graphs while `Tensorflow` uses static computation graphs.\n",
    "\n",
    "But both are widely populer in their own way. In this article series, we will learn about `Pytorch` and how to use it for `Deep Learning`.\n",
    "\n",
    "I'm `Md. Rishat Talukder` and I will be your instructor in this article series. I'm a `softwere/backend developer` and `AI enthusiast`. I have a good amount of experience in `Deep Learning` and `Neural Networks`. I have worked on various projects using `Pytorch` and `Tensorflow`. I'm also a `content creator` and I have a `Youtube channel` where I make coding tutorials and share my knowledge with others. You can follow me on my social media platforms to stay updated with my latest works.\n",
    "\n",
    "- [Youtube](https://www.youtube.com/channel/UCJzjJgUPbUeIh0Tb3l8c5Bw)\n",
    "- [LinkedIn](https://www.linkedin.com)\n",
    "\n",
    "I'll make part by part small articles on `Deep Learning with Pytorch` where I'll cover all the things I learned and experienced in my `Deep Learning` journey. So, let's get started with our first part.\n",
    "\n",
    "\n",
    "## Series Prerequisites\n",
    "\n",
    "- Basic knowledge of `Python`\n",
    "- Basic knowledge of `Numpy`, `Pandas`, and `Matplotlib`.\n",
    "- Basic knowledge of `Machine Learning`\n",
    "- Basic knowledge of `Deep Learning` and `Neural Networks`\n",
    "\n",
    "# Pytorch Installation\n",
    "\n",
    "Installing pytorch is very easy. You can install it using `pip`. You can install it using the following command.\n",
    "\n",
    "```bash \n",
    "pip install torch torchvision torchaudio\n",
    "```\n",
    "\n",
    "Or you can install it through the official website of `Pytorch`. You can visit the official website of `Pytorch` and install it according to your system configuration.\n",
    "\n",
    "[Pytorch Official Website](https://pytorch.org/)\n",
    "\n",
    "## Getting Started\n",
    "\n",
    "Now if you have successfully installed `Pytorch` you can start using it. SO, we can start by importing the `torch` library.\n"
   ]
  },
  {
   "cell_type": "code",
   "execution_count": 1,
   "metadata": {},
   "outputs": [],
   "source": [
    "import torch"
   ]
  },
  {
   "cell_type": "markdown",
   "metadata": {},
   "source": [
    "The library is imported successfully. Now we can start using it. So, first things first, we now should be able to see the `version` of the `Pytorch` we have installed. We can do this by using the following command."
   ]
  },
  {
   "cell_type": "code",
   "execution_count": 2,
   "metadata": {},
   "outputs": [
    {
     "data": {
      "text/plain": [
       "'2.3.0+rocm6.0'"
      ]
     },
     "execution_count": 2,
     "metadata": {},
     "output_type": "execute_result"
    }
   ],
   "source": [
    "torch.__version__"
   ]
  },
  {
   "cell_type": "markdown",
   "metadata": {},
   "source": [
    "Looks good. I'm using the latest version of `Pytorch` which is `2.3.0`. If you are reading this article way in the future the version might be different so some of this code might not work after 2-3 years after the upload of this article.\n",
    "\n",
    "Now, as we are stepping into the `universe(yes! it's a universe of tensors)` of `Pytorch` we should get you our spaceships ready. So, we need resourses and tools to work with `Pytorch`. So, let's get the tools ready."
   ]
  },
  {
   "cell_type": "code",
   "execution_count": 6,
   "metadata": {},
   "outputs": [],
   "source": [
    "import warnings # warning can be used to ignore the long unnecessary warnings\n",
    "import pandas as pd # when everything fails pandas will come to the rescue to manipulate the data\n",
    "import numpy as np # pandas is built on numpy so it is a must to import numpy\n",
    "import matplotlib.pyplot as plt # we need to see to work\n",
    "\n",
    "warnings.filterwarnings(\"ignore\") # ignoring the warning because when you are in a space war every warning is a distraction, we need no distraction"
   ]
  },
  {
   "cell_type": "markdown",
   "metadata": {},
   "source": [
    "Tools are prepared. Now we can start our journey. \n",
    "\n",
    "> In the next part, we will learn about `Tensors` in `Pytorch`. So, stay tuned for the next part."
   ]
  },
  {
   "cell_type": "code",
   "execution_count": null,
   "metadata": {},
   "outputs": [],
   "source": []
  }
 ],
 "metadata": {
  "kernelspec": {
   "display_name": "ML_ENV",
   "language": "python",
   "name": "python3"
  },
  "language_info": {
   "codemirror_mode": {
    "name": "ipython",
    "version": 3
   },
   "file_extension": ".py",
   "mimetype": "text/x-python",
   "name": "python",
   "nbconvert_exporter": "python",
   "pygments_lexer": "ipython3",
   "version": "3.11.0"
  }
 },
 "nbformat": 4,
 "nbformat_minor": 2
}
