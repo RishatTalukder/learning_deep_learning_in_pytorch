{
 "cells": [
  {
   "cell_type": "markdown",
   "metadata": {},
   "source": [
    "# Tensors in Pytorch\n",
    "##### By Md. Rishat Talukder\n",
    "\n",
    "`Pytorch` is the successor of `Torch` which is an open-source machine learning library based on the `Torch` library. It is used for applications such as `natural language processing(LLM)`, `computer vision`, `audio processing`, etc. It is primarily developed by `Facebook's AI Research lab (FAIR)`.\n",
    "\n",
    "`Pytorch` is a `deep learning framework` that provides a flexible and dynamic computational graph. It is a `Python-based scientific computing package` that uses the power of `GPUs`. It is also one of the preferred deep learning research platforms built to provide flexibility as a deep learning research platform.\n",
    "\n",
    "If you have prior knowledge of `Deep Learning` and `Neural Networks` you should have heard the name of `Tensorflow` which is another popular deep learning framework. The main difference between `Pytorch` and `Tensorflow` is that `Pytorch` uses dynamic computation graphs while `Tensorflow` uses static computation graphs.\n",
    "\n",
    "But both are widely populer in their own way. In this article series, we will learn about `Pytorch` and how to use it for `Deep Learning`.\n",
    "\n",
    "I'm `Md. Rishat Talukder` and I will be your instructor in this article series. I'm a `softwere/backend developer` and `AI enthusiast`. I have a good amount of experience in `Deep Learning` and `Neural Networks`. I have worked on various projects using `Pytorch` and `Tensorflow`. I'm also a `content creator` and I have a `Youtube channel` where I make coding tutorials and share my knowledge with others. You can follow me on my social media platforms to stay updated with my latest works.\n",
    "\n",
    "- [Youtube](https://www.youtube.com/channel/UCEEkKXpAkSwcMaIHnGi3Niw/)\n",
    "- [LinkedIn](https://www.linkedin.com/in/pro-programmer/)\n",
    "- [Github](https://github.com/RishatTalukder/learning_deep_learning_in_pytorch)\n",
    "\n",
    "\n",
    "I'll make part by part small articles on `Deep Learning with Pytorch` where I'll cover all the things I learned and experienced in my `Deep Learning` journey. So, let's get started with our first part.\n",
    "\n",
    "\n",
    "## Series Prerequisites\n",
    "\n",
    "- Basic knowledge of `Python`\n",
    "- Basic knowledge of `Numpy`, `Pandas`, and `Matplotlib`.\n",
    "- Basic knowledge of `Machine Learning`\n",
    "- Basic knowledge of `Deep Learning` and `Neural Networks`\n",
    "\n",
    "## What are tensors?\n",
    "\n",
    "`tensorss` are the building blocks of a `deep learning` model. They are the mathemetical representation of the data.\n",
    "\n",
    "\n",
    "## Importing the libraries"
   ]
  },
  {
   "cell_type": "code",
   "execution_count": 71,
   "metadata": {},
   "outputs": [
    {
     "data": {
      "text/plain": [
       "'2.3.0+rocm6.0'"
      ]
     },
     "execution_count": 71,
     "metadata": {},
     "output_type": "execute_result"
    }
   ],
   "source": [
    "import torch\n",
    "import numpy as np \n",
    "import pandas as pd\n",
    "import matplotlib.pyplot as plt\n",
    "import warnings\n",
    "\n",
    "warnings.filterwarnings('ignore')\n",
    "\n",
    "torch.__version__"
   ]
  },
  {
   "cell_type": "markdown",
   "metadata": {},
   "source": [
    "We have imported the tools now time to create some tensors.\n",
    "\n",
    "## Scaler\n",
    "\n",
    "Scalers are single values, like a single integer value. This is called a non-dimentional tensor or `0-dimensional` tensor."
   ]
  },
  {
   "cell_type": "code",
   "execution_count": 72,
   "metadata": {},
   "outputs": [
    {
     "data": {
      "text/plain": [
       "tensor(420)"
      ]
     },
     "execution_count": 72,
     "metadata": {},
     "output_type": "execute_result"
    }
   ],
   "source": [
    "scaler = torch.tensor(420)\n",
    "scaler"
   ]
  },
  {
   "cell_type": "code",
   "execution_count": 73,
   "metadata": {},
   "outputs": [
    {
     "name": "stdout",
     "output_type": "stream",
     "text": [
      "dimensions: 0\n"
     ]
    }
   ],
   "source": [
    "print(f\"dimensions: {scaler.ndim}\")"
   ]
  },
  {
   "cell_type": "markdown",
   "metadata": {},
   "source": [
    "# Vector\n",
    "\n",
    "`vectors` are arrays that has only a length and item on every index. We can say the vector is a 1-demensional array."
   ]
  },
  {
   "cell_type": "code",
   "execution_count": 74,
   "metadata": {},
   "outputs": [],
   "source": [
    "vector = torch.tensor([1, 2, 3, 4, 5])"
   ]
  },
  {
   "cell_type": "code",
   "execution_count": 75,
   "metadata": {},
   "outputs": [
    {
     "name": "stdout",
     "output_type": "stream",
     "text": [
      "shape: torch.Size([5])\n"
     ]
    }
   ],
   "source": [
    "print(f\"shape: {vector.shape}\")"
   ]
  },
  {
   "cell_type": "code",
   "execution_count": 76,
   "metadata": {},
   "outputs": [
    {
     "name": "stdout",
     "output_type": "stream",
     "text": [
      "dimension: 1\n"
     ]
    }
   ],
   "source": [
    "print(f\"dimension: {vector.ndim}\")"
   ]
  },
  {
   "cell_type": "code",
   "execution_count": 77,
   "metadata": {},
   "outputs": [
    {
     "name": "stdout",
     "output_type": "stream",
     "text": [
      "data type: torch.int64\n"
     ]
    }
   ],
   "source": [
    "print(f\"data type: {vector.dtype}\")"
   ]
  },
  {
   "cell_type": "markdown",
   "metadata": {},
   "source": [
    "# Matrix\n",
    "\n",
    "I think you get the idea behind. It 0-dimensional means it's a scaler, 1-dimension means it's a vector. SO, `2-dimenssional` would be a `Matrix`."
   ]
  },
  {
   "cell_type": "code",
   "execution_count": 78,
   "metadata": {},
   "outputs": [],
   "source": [
    "MATRIX = torch.tensor([[1, 2, 3], [4, 5, 6], [7, 8, 9]])"
   ]
  },
  {
   "cell_type": "code",
   "execution_count": 79,
   "metadata": {},
   "outputs": [
    {
     "name": "stdout",
     "output_type": "stream",
     "text": [
      "shape: torch.Size([3, 3])\n"
     ]
    }
   ],
   "source": [
    "print(f\"shape: {MATRIX.shape}\")"
   ]
  },
  {
   "cell_type": "code",
   "execution_count": 80,
   "metadata": {},
   "outputs": [
    {
     "name": "stdout",
     "output_type": "stream",
     "text": [
      "dimansions: 2\n"
     ]
    }
   ],
   "source": [
    "print(f\"dimansions: {MATRIX.ndim}\")"
   ]
  },
  {
   "cell_type": "markdown",
   "metadata": {},
   "source": [
    "## Tensors\n",
    "\n",
    "Finally anything above 2-dimensional is called a `tensor` itself.\n",
    "> This is just a naming convention. Pytorch arrays are called tensors, so it does not matter how many dimansions there is Every data representation in pytorch is a tensor."
   ]
  },
  {
   "cell_type": "code",
   "execution_count": 81,
   "metadata": {},
   "outputs": [
    {
     "data": {
      "text/plain": [
       "tensor([[[1, 2, 3],\n",
       "         [4, 5, 6],\n",
       "         [7, 8, 9]]])"
      ]
     },
     "execution_count": 81,
     "metadata": {},
     "output_type": "execute_result"
    }
   ],
   "source": [
    "TENSORS = torch.tensor(\n",
    "    [[[1, 2, 3], [4, 5, 6], [7, 8, 9]]]\n",
    ")\n",
    "\n",
    "TENSORS"
   ]
  },
  {
   "cell_type": "code",
   "execution_count": 82,
   "metadata": {},
   "outputs": [
    {
     "data": {
      "text/plain": [
       "torch.Size([1, 3, 3])"
      ]
     },
     "execution_count": 82,
     "metadata": {},
     "output_type": "execute_result"
    }
   ],
   "source": [
    "TENSORS.shape"
   ]
  },
  {
   "cell_type": "code",
   "execution_count": 83,
   "metadata": {},
   "outputs": [
    {
     "data": {
      "text/plain": [
       "3"
      ]
     },
     "execution_count": 83,
     "metadata": {},
     "output_type": "execute_result"
    }
   ],
   "source": [
    "TENSORS.ndim"
   ]
  },
  {
   "cell_type": "markdown",
   "metadata": {},
   "source": [
    "> If you look at the examples I have given the MATRIX and TENSOR are capitalized. This is another naming convention where any tensor with higher dimensions then one should be capitalized. As a Matrix has 2-dimensions and a tensor has 3-dimensions Thats why the variable name is capitalized."
   ]
  },
  {
   "cell_type": "markdown",
   "metadata": {},
   "source": [
    "All of the above(\n",
    "    `scaler`, `vector`, `matrix`, `tensors`\n",
    ") are tensors.\n",
    "\n",
    "We call a 0-dimensional tensor a `scaler`, a 1-dimensional tensor a `vector`, a 2-dimensional tensor a `matrix`, and a tensor with more than two dimensions simply a `tensor`.\n",
    "\n",
    "SOOOOOOOOOOOOOOOOOOO\n",
    "\n",
    "# Simply Tensors Are N-Dimensional Arrays With Superpowers."
   ]
  },
  {
   "cell_type": "markdown",
   "metadata": {},
   "source": [
    "# Random Tensors\n",
    "\n",
    "Random tensors are a big part in `Pytorch`. Because when a `neural network` starts to learns it starts with tensors full of random numbers then they adjust those random number to better represent the data.\n",
    "\n",
    "starts with random numbers -> look at the data -> update -> repeat step 2 and 3.\n",
    "\n",
    "Let's make a random number tensor."
   ]
  },
  {
   "cell_type": "code",
   "execution_count": 84,
   "metadata": {},
   "outputs": [
    {
     "data": {
      "text/plain": [
       "tensor([0.1248, 0.4535, 0.6411, 0.7467, 0.7434, 0.5068, 0.9361, 0.8287, 0.1771,\n",
       "        0.5501])"
      ]
     },
     "execution_count": 84,
     "metadata": {},
     "output_type": "execute_result"
    }
   ],
   "source": [
    "random_vector = torch.rand(10)\n",
    "random_vector"
   ]
  },
  {
   "cell_type": "markdown",
   "metadata": {},
   "source": [
    "There just 1 command you have a `vector` or a 1-dimensional tensor. Not only that you can make n-dimansional tensors in an instant."
   ]
  },
  {
   "cell_type": "code",
   "execution_count": 85,
   "metadata": {},
   "outputs": [
    {
     "data": {
      "text/plain": [
       "(tensor([[0.6136, 0.1042, 0.0994, 0.1838, 0.0607],\n",
       "         [0.6509, 0.2393, 0.0012, 0.4856, 0.0250],\n",
       "         [0.8643, 0.4529, 0.9640, 0.0993, 0.9601],\n",
       "         [0.9255, 0.4487, 0.0633, 0.2613, 0.1219]]),)"
      ]
     },
     "execution_count": 85,
     "metadata": {},
     "output_type": "execute_result"
    }
   ],
   "source": [
    "random_MATRIX = torch.rand(size=(4,5))\n",
    "random_MATRIX, "
   ]
  },
  {
   "cell_type": "code",
   "execution_count": 86,
   "metadata": {},
   "outputs": [
    {
     "data": {
      "text/plain": [
       "tensor([[[0.3125, 0.6634, 0.3643, 0.8087],\n",
       "         [0.9163, 0.7944, 0.4506, 0.8632],\n",
       "         [0.7823, 0.6702, 0.3306, 0.9175]],\n",
       "\n",
       "        [[0.5322, 0.5879, 0.6275, 0.1062],\n",
       "         [0.0189, 0.4362, 0.3783, 0.4945],\n",
       "         [0.0956, 0.4862, 0.4486, 0.3104]]])"
      ]
     },
     "execution_count": 86,
     "metadata": {},
     "output_type": "execute_result"
    }
   ],
   "source": [
    "random_TENSOR = torch.rand(size=(2,3,4))\n",
    "random_TENSOR"
   ]
  },
  {
   "cell_type": "markdown",
   "metadata": {},
   "source": [
    "Now, I won't go deep into this random stuff because most of the functions here is the same as the numpy random library. So, if you know numpy random you should know how to apply thses random functionalties in data processing and other cool stuff.\n",
    "\n",
    "There you go...\n",
    "\n",
    "\n",
    "### Tensors is a multidimensional array that is used to make a neural network and we can simply say \"A Tensor is a Multidimensional Numpy Array with Superpowers\", and we will learn more about it as we keep on making thing using the Pytorch library."
   ]
  },
  {
   "cell_type": "markdown",
   "metadata": {},
   "source": [
    "## Ones & Zeros\n",
    "\n",
    "There are other nice and easy things that can be done with `tensors`. For examples: Making a Tensor of all `zeros` or `Ones`.\n",
    "\n",
    "Now before going into `how we can get a tensor full of Zeros and Ones with Pytorch`, we should try to make a it our selves. \n",
    "\n",
    "Now if you have experienece with `numpy` then you should how numpy expression works.\n",
    "\n",
    "> We can add, substract, multiply or divide a multidimensional array by a single number like this."
   ]
  },
  {
   "cell_type": "code",
   "execution_count": 87,
   "metadata": {},
   "outputs": [
    {
     "data": {
      "text/plain": [
       "array([[1, 2, 3],\n",
       "       [2, 3, 4],\n",
       "       [3, 4, 5]])"
      ]
     },
     "execution_count": 87,
     "metadata": {},
     "output_type": "execute_result"
    }
   ],
   "source": [
    "import numpy as np\n",
    "\n",
    "\n",
    "normal_array = np.array([[1,2,3],\n",
    "                         [2,3,4],\n",
    "                         [3,4,5]])\n",
    "\n",
    "normal_array\n"
   ]
  },
  {
   "cell_type": "markdown",
   "metadata": {},
   "source": [
    "Here's a normal numpy array. Now we can do any operations on the array with a single element which will be then applied to the whole 2-dimensional array we just made."
   ]
  },
  {
   "cell_type": "code",
   "execution_count": 88,
   "metadata": {},
   "outputs": [
    {
     "data": {
      "text/plain": [
       "array([[0.5, 1. , 1.5],\n",
       "       [1. , 1.5, 2. ],\n",
       "       [1.5, 2. , 2.5]])"
      ]
     },
     "execution_count": 88,
     "metadata": {},
     "output_type": "execute_result"
    }
   ],
   "source": [
    "normal_array/2"
   ]
  },
  {
   "cell_type": "markdown",
   "metadata": {},
   "source": [
    "AAAANNNNND there you go, you can clearly see that the numpy array changed and the whole array is affected.\n",
    "\n",
    "Now do you remember what I said about Tensors???\n",
    "\n",
    "> A Tensor is a multidimensional array with SuperPowers.\n",
    "\n",
    "So, We can so all the things we could do with a numpy array and much much more with a Tensor.\n",
    "\n",
    "In that case we should also have the ability to do mathemetical oprations to a Tensor like we can do to a numpy array."
   ]
  },
  {
   "cell_type": "code",
   "execution_count": 89,
   "metadata": {},
   "outputs": [
    {
     "data": {
      "text/plain": [
       "tensor([[0.1082, 0.5997, 0.8875, 0.7790],\n",
       "        [0.9564, 0.3755, 0.3976, 0.9715],\n",
       "        [0.7895, 0.4885, 0.4484, 0.1327]])"
      ]
     },
     "execution_count": 89,
     "metadata": {},
     "output_type": "execute_result"
    }
   ],
   "source": [
    "normal_tensor = torch.rand(size=(3,4))\n",
    "normal_tensor"
   ]
  },
  {
   "cell_type": "markdown",
   "metadata": {},
   "source": [
    "Here we made a 2-dimensional 3 by 4 Tensor and now let's see what happens if we divide the tensor with `0`."
   ]
  },
  {
   "cell_type": "code",
   "execution_count": 90,
   "metadata": {},
   "outputs": [
    {
     "data": {
      "text/plain": [
       "tensor([[0., 0., 0., 0.],\n",
       "        [0., 0., 0., 0.],\n",
       "        [0., 0., 0., 0.]])"
      ]
     },
     "execution_count": 90,
     "metadata": {},
     "output_type": "execute_result"
    }
   ],
   "source": [
    "normal_tensor*0"
   ]
  },
  {
   "cell_type": "markdown",
   "metadata": {},
   "source": [
    "AAAAAANNNNNNDDDD there you go. We have a 3 by 4, 2-dimensional `tensor with all zeros`. \n",
    "\n",
    "Now how can we do the same if we want a tensor with all `Ones`????\n",
    "\n",
    "This is your homework. Try to figure it out yourself...\n",
    "\n",
    "🗨️ Make a 3-dimensional tensor without using the built in `torch` function.\n",
    "\n",
    "Now let's see how we can make a multidimensional tensor full of `zeros and Ones`.\n",
    "\n",
    "In pyTorch there are `Two functions` You can use to Make a zeors or ones tensor."
   ]
  },
  {
   "cell_type": "code",
   "execution_count": 91,
   "metadata": {},
   "outputs": [
    {
     "data": {
      "text/plain": [
       "tensor([[0., 0., 0., 0.],\n",
       "        [0., 0., 0., 0.],\n",
       "        [0., 0., 0., 0.]])"
      ]
     },
     "execution_count": 91,
     "metadata": {},
     "output_type": "execute_result"
    }
   ],
   "source": [
    "torch.zeros(size=(3,4))"
   ]
  },
  {
   "cell_type": "code",
   "execution_count": 92,
   "metadata": {},
   "outputs": [
    {
     "data": {
      "text/plain": [
       "tensor([[1., 1., 1., 1.],\n",
       "        [1., 1., 1., 1.],\n",
       "        [1., 1., 1., 1.]])"
      ]
     },
     "execution_count": 92,
     "metadata": {},
     "output_type": "execute_result"
    }
   ],
   "source": [
    "torch.ones(size=(3,4))"
   ]
  },
  {
   "cell_type": "code",
   "execution_count": 93,
   "metadata": {},
   "outputs": [
    {
     "data": {
      "text/plain": [
       "tensor([[[0., 0., 0., 0., 0.],\n",
       "         [0., 0., 0., 0., 0.],\n",
       "         [0., 0., 0., 0., 0.],\n",
       "         [0., 0., 0., 0., 0.]],\n",
       "\n",
       "        [[0., 0., 0., 0., 0.],\n",
       "         [0., 0., 0., 0., 0.],\n",
       "         [0., 0., 0., 0., 0.],\n",
       "         [0., 0., 0., 0., 0.]],\n",
       "\n",
       "        [[0., 0., 0., 0., 0.],\n",
       "         [0., 0., 0., 0., 0.],\n",
       "         [0., 0., 0., 0., 0.],\n",
       "         [0., 0., 0., 0., 0.]]])"
      ]
     },
     "execution_count": 93,
     "metadata": {},
     "output_type": "execute_result"
    }
   ],
   "source": [
    "torch.zeros(size=(3,4,5))"
   ]
  },
  {
   "cell_type": "code",
   "execution_count": 94,
   "metadata": {},
   "outputs": [
    {
     "data": {
      "text/plain": [
       "tensor([[[1., 1., 1., 1., 1.],\n",
       "         [1., 1., 1., 1., 1.],\n",
       "         [1., 1., 1., 1., 1.],\n",
       "         [1., 1., 1., 1., 1.]],\n",
       "\n",
       "        [[1., 1., 1., 1., 1.],\n",
       "         [1., 1., 1., 1., 1.],\n",
       "         [1., 1., 1., 1., 1.],\n",
       "         [1., 1., 1., 1., 1.]],\n",
       "\n",
       "        [[1., 1., 1., 1., 1.],\n",
       "         [1., 1., 1., 1., 1.],\n",
       "         [1., 1., 1., 1., 1.],\n",
       "         [1., 1., 1., 1., 1.]]])"
      ]
     },
     "execution_count": 94,
     "metadata": {},
     "output_type": "execute_result"
    }
   ],
   "source": [
    "torch.ones(size=(3,4,5))"
   ]
  },
  {
   "cell_type": "markdown",
   "metadata": {},
   "source": [
    "This is nice write???\n",
    "\n",
    "Just a single command and in an instant a tensor full of zeros and ones are created.\n",
    "\n",
    "> Zeros are more commonly used then ones.\n",
    "\n",
    "btw every spelling of zeroes is a spelling mistake 😁"
   ]
  },
  {
   "cell_type": "markdown",
   "metadata": {},
   "source": [
    "## Arange & Tensors Like\n",
    "\n",
    "### Arange\n",
    "Now, there is some more functions that can be very helpfull in making a tensor.\n",
    "\n",
    "If you need a tensor of continuous values you can use the `arange` function."
   ]
  },
  {
   "cell_type": "code",
   "execution_count": 95,
   "metadata": {},
   "outputs": [
    {
     "data": {
      "text/plain": [
       "tensor([ 0,  1,  2,  3,  4,  5,  6,  7,  8,  9, 10, 11, 12, 13, 14, 15, 16, 17,\n",
       "        18, 19, 20, 21, 22, 23, 24, 25, 26, 27, 28, 29, 30, 31, 32, 33, 34, 35,\n",
       "        36, 37, 38, 39, 40, 41, 42, 43, 44, 45, 46, 47, 48, 49, 50, 51, 52, 53,\n",
       "        54, 55, 56, 57, 58, 59, 60, 61, 62, 63, 64, 65, 66, 67, 68, 69, 70, 71,\n",
       "        72, 73, 74, 75, 76, 77, 78, 79, 80, 81, 82, 83, 84, 85, 86, 87, 88, 89,\n",
       "        90, 91, 92, 93, 94, 95, 96, 97, 98, 99])"
      ]
     },
     "execution_count": 95,
     "metadata": {},
     "output_type": "execute_result"
    }
   ],
   "source": [
    "torch.arange(start=0,end=100)"
   ]
  },
  {
   "cell_type": "markdown",
   "metadata": {},
   "source": [
    "And there you have a 1-dimensional tensor with from `0 to 99`. The `arange` function can take `2 arguments` \n",
    "\n",
    "- **start**: This argument is for the starting value of the tensor.\n",
    "- **end**: This is for the ending value of the tensor. The ending value is exclusive so the value given in the end argument will be excluded in the tensor, that's why the tensor we made have 0 to 99 even though we passed 100 as the end value.\n",
    "\n",
    "To make a tensor with 0 to 100 values we have to make do the following."
   ]
  },
  {
   "cell_type": "code",
   "execution_count": 96,
   "metadata": {},
   "outputs": [
    {
     "data": {
      "text/plain": [
       "tensor([  0,   1,   2,   3,   4,   5,   6,   7,   8,   9,  10,  11,  12,  13,\n",
       "         14,  15,  16,  17,  18,  19,  20,  21,  22,  23,  24,  25,  26,  27,\n",
       "         28,  29,  30,  31,  32,  33,  34,  35,  36,  37,  38,  39,  40,  41,\n",
       "         42,  43,  44,  45,  46,  47,  48,  49,  50,  51,  52,  53,  54,  55,\n",
       "         56,  57,  58,  59,  60,  61,  62,  63,  64,  65,  66,  67,  68,  69,\n",
       "         70,  71,  72,  73,  74,  75,  76,  77,  78,  79,  80,  81,  82,  83,\n",
       "         84,  85,  86,  87,  88,  89,  90,  91,  92,  93,  94,  95,  96,  97,\n",
       "         98,  99, 100])"
      ]
     },
     "execution_count": 96,
     "metadata": {},
     "output_type": "execute_result"
    }
   ],
   "source": [
    "torch.arange(start=0,end=101)"
   ]
  },
  {
   "cell_type": "markdown",
   "metadata": {},
   "source": [
    "And we have a nice tensor.\n",
    "\n",
    "Now there is another argument that the `arange` function can take.\n",
    "-**step**: Steps argument is used to specify the gap between the tensor values. It is set to 1 by default. YOu try to experiment by changing this parameter by padding a different value as an argument.\n",
    "\n",
    "```python\n",
    "\n",
    "torch.arange(start=-,end=101,step=2)\n",
    "\n",
    "```\n",
    "\n",
    "Try it out and see what is the tensor you get.\n",
    "\n",
    "And that will bring me to your next homework.\n",
    "\n",
    "> 🗨 Make two tensors, one will have all `odd` numbers from `0 to 100` , other one will have all `Even` numbers from `0 to 100`."
   ]
  },
  {
   "cell_type": "markdown",
   "metadata": {},
   "source": [
    "That brings us to the next part.\n",
    "\n",
    "### like\n",
    "\n",
    "This is a helper function that can make a tesnor like other tensors.\n",
    "\n",
    "For example you need a tensor of zeroes like the tensor we made earlier with arnge function.\n",
    "\n",
    "> The tensor from 0 to 100.\n",
    "\n",
    "The like functions can make a tensor with 100 zeros.\n",
    "\n",
    "> Yes it is plural, there are other Like functions and all of them are written like this. (`FunctionName_Like`)"
   ]
  },
  {
   "cell_type": "code",
   "execution_count": 97,
   "metadata": {},
   "outputs": [
    {
     "data": {
      "text/plain": [
       "tensor([0, 0, 0, 0, 0, 0, 0, 0, 0, 0])"
      ]
     },
     "execution_count": 97,
     "metadata": {},
     "output_type": "execute_result"
    }
   ],
   "source": [
    "one_to_ten = torch.arange(start=1,end=11)\n",
    "\n",
    "ten_zeros = torch.zeros_like(input=one_to_ten)\n",
    "ten_zeros"
   ]
  },
  {
   "cell_type": "markdown",
   "metadata": {},
   "source": [
    "There you have it it's fairly simple and anyone can master it as they practice more and more.\n",
    "\n",
    "\n",
    "## Tensor DataTypes\n",
    "\n",
    "\n",
    "`Data Types` are a very important topic in any language or library. \n",
    "\n",
    "🏅 There are `3` common error you will face using `Pytorch`:\n",
    "- `Wrong Data Types`\n",
    "- `Wrong Shape`\n",
    "- `Wrong Device`\n",
    "\n",
    "Let's see what type of `error` we can face and what is the `default` data type of a tensor.\n",
    "\n",
    "I'll make a integer tensor."
   ]
  },
  {
   "cell_type": "code",
   "execution_count": 98,
   "metadata": {},
   "outputs": [],
   "source": [
    "int_tensor = torch.tensor([1,2,3,4])"
   ]
  },
  {
   "cell_type": "markdown",
   "metadata": {},
   "source": [
    "Now we can see the data type of the tensor by doing the following."
   ]
  },
  {
   "cell_type": "code",
   "execution_count": 99,
   "metadata": {},
   "outputs": [
    {
     "data": {
      "text/plain": [
       "torch.int64"
      ]
     },
     "execution_count": 99,
     "metadata": {},
     "output_type": "execute_result"
    }
   ],
   "source": [
    "int_tensor.dtype"
   ]
  },
  {
   "cell_type": "markdown",
   "metadata": {},
   "source": [
    "Well well well, the tensor we created has a datatype of `torch.int64` meaning that the tensor have a limit of `2^64` bits. If you don't know how this works do your own research. You are just one `google search` away.\n",
    "\n",
    "Homework Time.\n",
    "\n",
    "🗨️ Research about `Torch DataTypes` in google also in the `torch official documentations`. Also Learn about the term `Precision in Computing`(This is directly related to TOrch DataTypes)\n",
    "\n",
    "So, the limit is `int64` or `2^64` bits right??\n",
    "\n",
    "I'm curious about what is the value of 2^64!?"
   ]
  },
  {
   "cell_type": "code",
   "execution_count": 100,
   "metadata": {},
   "outputs": [
    {
     "data": {
      "text/plain": [
       "18446744073709551616"
      ]
     },
     "execution_count": 100,
     "metadata": {},
     "output_type": "execute_result"
    }
   ],
   "source": [
    "2**64"
   ]
  },
  {
   "cell_type": "markdown",
   "metadata": {},
   "source": [
    "This is a very huge number. So, in theory we can only store a value up to `18446744073709551616`. So, let's now make a new tensor with a larger value, for example: `18446744073709551800`."
   ]
  },
  {
   "cell_type": "code",
   "execution_count": 101,
   "metadata": {},
   "outputs": [
    {
     "ename": "RuntimeError",
     "evalue": "Overflow when unpacking long",
     "output_type": "error",
     "traceback": [
      "\u001b[0;31m---------------------------------------------------------------------------\u001b[0m",
      "\u001b[0;31mRuntimeError\u001b[0m                              Traceback (most recent call last)",
      "Cell \u001b[0;32mIn[101], line 1\u001b[0m\n\u001b[0;32m----> 1\u001b[0m new_tensor \u001b[38;5;241m=\u001b[39m \u001b[43mtorch\u001b[49m\u001b[38;5;241;43m.\u001b[39;49m\u001b[43mtensor\u001b[49m\u001b[43m(\u001b[49m\u001b[43m[\u001b[49m\u001b[38;5;241;43m1\u001b[39;49m\u001b[43m,\u001b[49m\u001b[38;5;241;43m2\u001b[39;49m\u001b[43m,\u001b[49m\u001b[38;5;241;43m3\u001b[39;49m\u001b[43m,\u001b[49m\u001b[38;5;241;43m118446744073709551800\u001b[39;49m\u001b[43m]\u001b[49m\u001b[43m)\u001b[49m\n",
      "\u001b[0;31mRuntimeError\u001b[0m: Overflow when unpacking long"
     ]
    }
   ],
   "source": [
    "new_tensor = torch.tensor([1,2,3,118446744073709551800])"
   ]
  },
  {
   "cell_type": "markdown",
   "metadata": {},
   "source": [
    "An we have an `error`. This shows that a value of the tensor `Overflowing when unpacking long(int64)`. This is because we have a value that is `out of limit`.\n",
    "\n",
    "Now what do we do, TO store this value larger then the limit we need to change the data type to a larger limit.\n",
    "\n",
    "There are many data types we can use in pytorch. So, I'll very much suggest you go and have a look at the official documentation and you will know all about the datatypes.\n",
    "\n",
    "Soooo, we have a big problem now. Pytorch does not have a `int` datatype larger then the `int64` so, what do we do?\n",
    "\n",
    "❗ We can transform any `int` value into a `float` value and it will be stored. But some of the data might be lost.\n",
    "\n",
    "Let's see what happend if we make the same tensor with a `float64` dtype."
   ]
  },
  {
   "cell_type": "code",
   "execution_count": 102,
   "metadata": {},
   "outputs": [
    {
     "data": {
      "text/plain": [
       "tensor([1.0000e+00, 2.0000e+00, 3.0000e+00, 1.8447e+19], dtype=torch.float64)"
      ]
     },
     "execution_count": 102,
     "metadata": {},
     "output_type": "execute_result"
    }
   ],
   "source": [
    "new_tensor = torch.tensor([1,2,3,18446744073709551800], dtype=torch.float64)\n",
    "new_tensor"
   ]
  },
  {
   "cell_type": "markdown",
   "metadata": {},
   "source": [
    "AAAAANNNNNDD there you go we have a tensor that can store a value `larger then int64` by storing the data in `floating point` and we also didn't get a error message.\n",
    "\n",
    "But there is another issue left. You can see that the large tensor value is stored like this, `1.887e+19` meaning `1.887*10^19`. So, there can be some data loss.\n",
    "\n",
    "So, let's check if there is some data loss or not. We can compare the `int` value with the `float value` to see if they are the same."
   ]
  },
  {
   "cell_type": "code",
   "execution_count": 103,
   "metadata": {},
   "outputs": [
    {
     "data": {
      "text/plain": [
       "False"
      ]
     },
     "execution_count": 103,
     "metadata": {},
     "output_type": "execute_result"
    }
   ],
   "source": [
    "18446744073709551800 == int(new_tensor[-1])"
   ]
  },
  {
   "cell_type": "markdown",
   "metadata": {},
   "source": [
    "Oh!!! `It returned false`. So, the data we stored is not the same as we wanted to store. So, there is a possibily of data loss. We, how much data did we lose."
   ]
  },
  {
   "cell_type": "code",
   "execution_count": 104,
   "metadata": {},
   "outputs": [
    {
     "data": {
      "text/plain": [
       "184"
      ]
     },
     "execution_count": 104,
     "metadata": {},
     "output_type": "execute_result"
    }
   ],
   "source": [
    "18446744073709551800 - int(new_tensor[-1])"
   ]
  },
  {
   "cell_type": "markdown",
   "metadata": {},
   "source": [
    "The data we stored is `184` less then the data we wanted to store. This brings us to the first complication of `pytorch`.\n",
    "\n",
    "> 🚫 There is no way to store data larger then `int64` and if you store the data using `float64` some data will be lost because `float64` also has the limit of `2^64` bits.\n",
    "\n",
    "> 🗨 Figure out how to convert a tensors data type without making a whole new tensor.\n",
    "\n",
    "\n",
    "## Matrix Multiplication\n",
    "\n",
    "`Matrix Multiplication` is one of the most important topics in `deep learning` and machine learning. That brings me to the first MOTO of this article series.\n",
    "\n",
    "> # THERE IS NO DEEP LEARNING WITHOUT DEEP MATHS KNOWLEDGE.\n",
    "\n",
    "Yes! you need to know almost every mathematical theories you learned so far and much more and one of those mathematical theories is `Matrix`. SOOOOOO,\n",
    "\n",
    "> 🗨 Research on `matrix` and how to do `matrix multiplications`.\n",
    "\n",
    "a `2-dimensional` tensor is the representation of a `Matrix` in Deep leaning. Thats why at the starting of this article I made a 2-dimensional tensor and named it a `MATRIX`.\n",
    "\n",
    "Now how can we muliply two matrixs.\n",
    "\n",
    "Let's make two matrixs."
   ]
  },
  {
   "cell_type": "code",
   "execution_count": 105,
   "metadata": {},
   "outputs": [
    {
     "data": {
      "text/plain": [
       "(tensor([6, 7, 6, 2, 3, 5, 7, 8, 1, 4]),\n",
       " tensor([4, 5, 6, 3, 3, 7, 9, 3, 2, 5]))"
      ]
     },
     "execution_count": 105,
     "metadata": {},
     "output_type": "execute_result"
    }
   ],
   "source": [
    "matrix_A = torch.randint(low=1,high=10,size=(10,))\n",
    "matrix_B = torch.randint(low=1,high=10,size=(10,))\n",
    "matrix_A,matrix_B"
   ]
  },
  {
   "cell_type": "markdown",
   "metadata": {},
   "source": [
    "There you go! We have made two tensors with `10 random values from 1 to 10`. Now how do can we multiply these two tensors?\n",
    "\n",
    ">❗ There are two ways to multiply tensors.\n",
    "> - `Value wise multiplication`.\n",
    "> - `Big Dot or Matrix Multiplication`.\n",
    "\n",
    "Value wise multiplication is multiplying two tensor indexes. Which can be done by simple `*` opration."
   ]
  },
  {
   "cell_type": "code",
   "execution_count": 106,
   "metadata": {},
   "outputs": [
    {
     "data": {
      "text/plain": [
       "tensor([24, 35, 36,  6,  9, 35, 63, 24,  2, 20])"
      ]
     },
     "execution_count": 106,
     "metadata": {},
     "output_type": "execute_result"
    }
   ],
   "source": [
    "matrix_A*matrix_B"
   ]
  },
  {
   "cell_type": "markdown",
   "metadata": {},
   "source": [
    "And we have a nice value wise multiplied tensor where every index is the multiplied value of the two tensor indecies.\n",
    "\n",
    "Now what is `matrix Multiplication`? \n",
    "\n",
    "As I said earlier this is a mathematical concept that is widely used in deep learning and I can write a dedicated article to just explain `what a matrix is`. But I will not go into mathematical details. \n",
    "\n",
    "`Matrix Multiplication` can be done by a simple `torch command`."
   ]
  },
  {
   "cell_type": "code",
   "execution_count": 107,
   "metadata": {},
   "outputs": [
    {
     "data": {
      "text/plain": [
       "tensor(254)"
      ]
     },
     "execution_count": 107,
     "metadata": {},
     "output_type": "execute_result"
    }
   ],
   "source": [
    "torch.matmul(matrix_A,matrix_B)"
   ]
  },
  {
   "cell_type": "markdown",
   "metadata": {},
   "source": [
    "WHAT!!!!\n",
    "\n",
    "`Matrix Multiplting` two tensors returned a single value???\n",
    "\n",
    "How does that happen??\n",
    "\n",
    "Calm down I will explain. \n",
    "\n",
    "The output is currect But here is a question for you.\n",
    "\n",
    "🗨 What are the dimensions of these two tensors? are they really matrixs??"
   ]
  },
  {
   "cell_type": "code",
   "execution_count": 108,
   "metadata": {},
   "outputs": [
    {
     "name": "stdout",
     "output_type": "stream",
     "text": [
      "Dimensions of Matrix A: 1\n",
      "Dimensions of Matrix B: 1\n"
     ]
    }
   ],
   "source": [
    "print(f\"Dimensions of Matrix A: {matrix_A.ndim}\")\n",
    "print(f\"Dimensions of Matrix B: {matrix_B.ndim}\")"
   ]
  },
  {
   "cell_type": "markdown",
   "metadata": {},
   "source": [
    "WHAAT!!! These two tensors was not even matrixs!!!!\n",
    "\n",
    "> 1-dimesional tensors are called scalers.\n",
    "\n",
    "Oh well, Im a shity article writter and obviously I made a huge error while making this article.\n",
    "\n",
    "# NOPE\n",
    "\n",
    "> ❗ Every 1-dimensional tensors can be intepreted as a (1xn) matrix. 1 is the number of rows and n is the number of elements or we can say number of columns.\n",
    "\n",
    "As we made two 1-dimensional tensors, we can now make two legitimate matrixs two know what really happens.\n",
    "\n",
    "> we can just reshape the 1-dimensional tensors from before."
   ]
  },
  {
   "cell_type": "code",
   "execution_count": 109,
   "metadata": {},
   "outputs": [],
   "source": [
    "matrix_A = matrix_A.reshape(shape=(1,10))\n",
    "matrix_B = matrix_B.reshape(shape=(1,10))"
   ]
  },
  {
   "cell_type": "code",
   "execution_count": 110,
   "metadata": {},
   "outputs": [
    {
     "ename": "RuntimeError",
     "evalue": "mat1 and mat2 shapes cannot be multiplied (1x10 and 1x10)",
     "output_type": "error",
     "traceback": [
      "\u001b[0;31m---------------------------------------------------------------------------\u001b[0m",
      "\u001b[0;31mRuntimeError\u001b[0m                              Traceback (most recent call last)",
      "Cell \u001b[0;32mIn[110], line 1\u001b[0m\n\u001b[0;32m----> 1\u001b[0m \u001b[43mtorch\u001b[49m\u001b[38;5;241;43m.\u001b[39;49m\u001b[43mmatmul\u001b[49m\u001b[43m(\u001b[49m\u001b[43mmatrix_A\u001b[49m\u001b[43m,\u001b[49m\u001b[43mmatrix_B\u001b[49m\u001b[43m)\u001b[49m\n",
      "\u001b[0;31mRuntimeError\u001b[0m: mat1 and mat2 shapes cannot be multiplied (1x10 and 1x10)"
     ]
    }
   ],
   "source": [
    "torch.matmul(matrix_A,matrix_B)"
   ]
  },
  {
   "cell_type": "markdown",
   "metadata": {},
   "source": [
    "WHAAAT!!!!!!!!\n",
    "\n",
    "It doesn't work?! But It's the same matrix as the matrix we made before right?\n",
    "\n",
    "Let's see the value and the number of dimesions of the `reshaped` tensors from before. "
   ]
  },
  {
   "cell_type": "code",
   "execution_count": 111,
   "metadata": {},
   "outputs": [
    {
     "name": "stdout",
     "output_type": "stream",
     "text": [
      "Matrix A: tensor([[6, 7, 6, 2, 3, 5, 7, 8, 1, 4]])\n",
      "Matrix B: tensor([[4, 5, 6, 3, 3, 7, 9, 3, 2, 5]])\n",
      "dimensions of A: 2\n",
      "dimensions of B: 2\n"
     ]
    }
   ],
   "source": [
    "print(f\"Matrix A: {matrix_A}\")\n",
    "print(f\"Matrix B: {matrix_B}\")\n",
    "print(f'dimensions of A: {matrix_A.ndim}')\n",
    "print(f'dimensions of B: {matrix_B.ndim}')"
   ]
  },
  {
   "cell_type": "markdown",
   "metadata": {},
   "source": [
    "we have successfully reshaped the 1-dimensional tensors to matrixs. But why did we get the error?\n",
    "\n",
    ">❗ There are cruicial rule we must follow:\n",
    "> 1. The inner Dimensional shape values must be equal. Sooo,\n",
    "**(3,2)x(2,3)**✅\n",
    "**(3,3)x(3,2)**✅\n",
    "**(2,3)x(3,1)**✅\n",
    "**(3,2)x(3,2)**❌\n",
    "**(5,2)x(3,1)**❌\n",
    "\n",
    ">❗ Inner dimensional shape value must equal means, to the `number columns of the first matrix` and the `number of rows of the second matrix` should be same.\n",
    "\n",
    "So, what is the shape the matrixs we made earlier?"
   ]
  },
  {
   "cell_type": "code",
   "execution_count": 112,
   "metadata": {},
   "outputs": [
    {
     "name": "stdout",
     "output_type": "stream",
     "text": [
      "shape of A: torch.Size([1, 10])\n",
      "shape of B: torch.Size([1, 10])\n"
     ]
    }
   ],
   "source": [
    "print(f\"shape of A: {matrix_A.shape}\")\n",
    "print(f\"shape of B: {matrix_B.shape}\")"
   ]
  },
  {
   "cell_type": "markdown",
   "metadata": {},
   "source": [
    "WHAAAT?! ops, this is an overreaction.\n",
    "\n",
    "The shape of A is [1, 10] and shape of B [1, 10]. So, the number of columns our first matrix is `10` and the number of rows of our second matrix is `1`, which is clearly `not the same` so it is impossible to do a matrix multiplication between these two matrixs.\n",
    "\n",
    "This `error` is the most common error in  matrix multiplications. \n",
    "\n",
    "> 🗨 Figure out why the 1-dimensional tensors can be matrix multiplied without following the rules and what is a `Transposed Matrix` is?\n",
    "\n",
    "This brings us to the another concept that cruisal in matrix multiplication -> `Transposing a Matrix`.\n",
    "\n",
    "Pytorch has a built in function to do this. Let's transpose the matrix B."
   ]
  },
  {
   "cell_type": "code",
   "execution_count": 113,
   "metadata": {},
   "outputs": [
    {
     "data": {
      "text/plain": [
       "tensor([[4],\n",
       "        [5],\n",
       "        [6],\n",
       "        [3],\n",
       "        [3],\n",
       "        [7],\n",
       "        [9],\n",
       "        [3],\n",
       "        [2],\n",
       "        [5]])"
      ]
     },
     "execution_count": 113,
     "metadata": {},
     "output_type": "execute_result"
    }
   ],
   "source": [
    "transposed_matrix_B = matrix_B.T\n",
    "transposed_matrix_B"
   ]
  },
  {
   "cell_type": "markdown",
   "metadata": {},
   "source": [
    "> You can transpose a matrix using the `matrix_valiable_name.T` function.\n",
    "\n",
    "Well that's weird. What happened there?? \n",
    "\n",
    "Every element in the row became their own rows.\n",
    "\n",
    "Let's see the shape of this transposed matrix B"
   ]
  },
  {
   "cell_type": "code",
   "execution_count": 114,
   "metadata": {},
   "outputs": [
    {
     "data": {
      "text/plain": [
       "torch.Size([10, 1])"
      ]
     },
     "execution_count": 114,
     "metadata": {},
     "output_type": "execute_result"
    }
   ],
   "source": [
    "transposed_matrix_B.shape"
   ]
  },
  {
   "cell_type": "markdown",
   "metadata": {},
   "source": [
    "Woah! the shape interchanged. The row value became the column value and column value became the row.\n",
    "\n",
    "So, after transposing the second matrix are fullfilling the first rule.\n",
    "\n",
    "- Shape of A is (1,10)\n",
    "- Shape of transposed B is (10,1).\n",
    "- The matrix we are multiplying has the shape `(1,10)x(10,1)`, The inner dimensions for both of these matrix are equal.\n",
    "\n",
    "So, we should be able use the `torch.matmul()` function to multiply these two tensors.\n",
    "\n",
    "Let's if we are right."
   ]
  },
  {
   "cell_type": "code",
   "execution_count": 115,
   "metadata": {},
   "outputs": [
    {
     "data": {
      "text/plain": [
       "tensor([[254]])"
      ]
     },
     "execution_count": 115,
     "metadata": {},
     "output_type": "execute_result"
    }
   ],
   "source": [
    "torch.mm(matrix_A,transposed_matrix_B)"
   ]
  },
  {
   "cell_type": "markdown",
   "metadata": {},
   "source": [
    "> torch.mm() can also be used for matrix multiplications.\n",
    "\n",
    "AAAANNNNNNDDDD there you go. We have done our first matrix multiplication. We can do the same for the matrix A. This should give us the same result right?"
   ]
  },
  {
   "cell_type": "code",
   "execution_count": 116,
   "metadata": {},
   "outputs": [
    {
     "data": {
      "text/plain": [
       "(torch.Size([10, 1]), torch.Size([1, 10]))"
      ]
     },
     "execution_count": 116,
     "metadata": {},
     "output_type": "execute_result"
    }
   ],
   "source": [
    "matrix_A.T.shape, matrix_B.shape"
   ]
  },
  {
   "cell_type": "markdown",
   "metadata": {},
   "source": [
    "> (10,1)x(1,10)\n",
    "\n",
    "The inner dimensional values are equal. Let's multiply."
   ]
  },
  {
   "cell_type": "code",
   "execution_count": 117,
   "metadata": {},
   "outputs": [
    {
     "data": {
      "text/plain": [
       "tensor([[24, 30, 36, 18, 18, 42, 54, 18, 12, 30],\n",
       "        [28, 35, 42, 21, 21, 49, 63, 21, 14, 35],\n",
       "        [24, 30, 36, 18, 18, 42, 54, 18, 12, 30],\n",
       "        [ 8, 10, 12,  6,  6, 14, 18,  6,  4, 10],\n",
       "        [12, 15, 18,  9,  9, 21, 27,  9,  6, 15],\n",
       "        [20, 25, 30, 15, 15, 35, 45, 15, 10, 25],\n",
       "        [28, 35, 42, 21, 21, 49, 63, 21, 14, 35],\n",
       "        [32, 40, 48, 24, 24, 56, 72, 24, 16, 40],\n",
       "        [ 4,  5,  6,  3,  3,  7,  9,  3,  2,  5],\n",
       "        [16, 20, 24, 12, 12, 28, 36, 12,  8, 20]])"
      ]
     },
     "execution_count": 117,
     "metadata": {},
     "output_type": "execute_result"
    }
   ],
   "source": [
    "torch.mm(matrix_A.T, matrix_B)"
   ]
  },
  {
   "cell_type": "markdown",
   "metadata": {},
   "source": [
    "WHAAAAAAAAAAAT!!!!\n",
    "\n",
    "What is this???????\n",
    "\n",
    "Why is the result of these two matrix multiplications are different and why is the shape is of these multiplications are all so confusing?\n",
    "\n",
    "- **RULE 2**: The outcome of the matrix multiplications will have the `shape of the outer dimensional values`.\n",
    "for example: \n",
    "```\n",
    "Input matrix shapes: (3,2), (2,3)\n",
    "output shape: (3,3)\n",
    "\n",
    "because the outer shapes are 3 and 3\n",
    "```\n",
    "\n",
    "> outer shapes refers to the number of rows of the first matrix and the number of columns of the second matrix.\n",
    "\n",
    "In our case, after transposing B the shapes were (1,10) and (10,1). Rule 1 is followed. \n",
    "\n",
    "The outer dimensions are `1 and 1`. So the output shape would be (1,1). Let's see the proof.\n"
   ]
  },
  {
   "cell_type": "code",
   "execution_count": 118,
   "metadata": {},
   "outputs": [
    {
     "data": {
      "text/plain": [
       "torch.Size([1, 1])"
      ]
     },
     "execution_count": 118,
     "metadata": {},
     "output_type": "execute_result"
    }
   ],
   "source": [
    "torch.matmul(matrix_A,matrix_B.T).shape"
   ]
  },
  {
   "cell_type": "markdown",
   "metadata": {},
   "source": [
    "And we are right. \n",
    "\n",
    "For the second matmul, we have the shape of (10,1) and (1,10). So, the output shape should be `(10,10)`."
   ]
  },
  {
   "cell_type": "code",
   "execution_count": 119,
   "metadata": {},
   "outputs": [
    {
     "data": {
      "text/plain": [
       "torch.Size([10, 10])"
      ]
     },
     "execution_count": 119,
     "metadata": {},
     "output_type": "execute_result"
    }
   ],
   "source": [
    "torch.mm(matrix_A.T,matrix_B).shape"
   ]
  },
  {
   "cell_type": "markdown",
   "metadata": {},
   "source": [
    "AAAAANNNNNDDDD we are done.\n",
    "\n",
    "That's it for the matmul section. This is all I know of the Matrix Multiplication using torch.\n",
    "\n",
    "But I have to say, the article is still not done yet. There are some other small concepts left and I'll make small example for those try those out yourself and see what they really do.\n",
    "\n",
    "For all those I'll make a dummy 4-dimensional tensor."
   ]
  },
  {
   "cell_type": "code",
   "execution_count": 120,
   "metadata": {},
   "outputs": [
    {
     "data": {
      "text/plain": [
       "tensor([[[[837, 325,  28, 115],\n",
       "          [956, 692, 599, 659],\n",
       "          [453, 211, 722, 125]]],\n",
       "\n",
       "\n",
       "        [[[338, 746, 141, 835],\n",
       "          [640, 870, 117, 942],\n",
       "          [740, 188, 465, 632]]]])"
      ]
     },
     "execution_count": 120,
     "metadata": {},
     "output_type": "execute_result"
    }
   ],
   "source": [
    "dummy = torch.randint(low=1, high=1000, size=(2,1,3,4))\n",
    "dummy"
   ]
  },
  {
   "cell_type": "markdown",
   "metadata": {},
   "source": [
    "# Max\n",
    "\n",
    "Max returns the maximum value in a tensor."
   ]
  },
  {
   "cell_type": "code",
   "execution_count": 121,
   "metadata": {},
   "outputs": [
    {
     "data": {
      "text/plain": [
       "(tensor(956), tensor(956))"
      ]
     },
     "execution_count": 121,
     "metadata": {},
     "output_type": "execute_result"
    }
   ],
   "source": [
    "torch.max(dummy),dummy.max()"
   ]
  },
  {
   "cell_type": "markdown",
   "metadata": {},
   "source": [
    "# Min\n",
    "\n",
    "Min returns the minimum value of a tensor."
   ]
  },
  {
   "cell_type": "code",
   "execution_count": 122,
   "metadata": {},
   "outputs": [
    {
     "data": {
      "text/plain": [
       "(tensor(28), tensor(28))"
      ]
     },
     "execution_count": 122,
     "metadata": {},
     "output_type": "execute_result"
    }
   ],
   "source": [
    "torch.min(dummy), dummy.min()"
   ]
  },
  {
   "cell_type": "markdown",
   "metadata": {},
   "source": [
    "# Mean\n",
    "\n",
    "The average of a tensor."
   ]
  },
  {
   "cell_type": "code",
   "execution_count": 123,
   "metadata": {},
   "outputs": [
    {
     "ename": "RuntimeError",
     "evalue": "mean(): could not infer output dtype. Input dtype must be either a floating point or complex dtype. Got: Long",
     "output_type": "error",
     "traceback": [
      "\u001b[0;31m---------------------------------------------------------------------------\u001b[0m",
      "\u001b[0;31mRuntimeError\u001b[0m                              Traceback (most recent call last)",
      "Cell \u001b[0;32mIn[123], line 1\u001b[0m\n\u001b[0;32m----> 1\u001b[0m \u001b[43mtorch\u001b[49m\u001b[38;5;241;43m.\u001b[39;49m\u001b[43mmean\u001b[49m\u001b[43m(\u001b[49m\u001b[43mdummy\u001b[49m\u001b[43m)\u001b[49m, dummy\u001b[38;5;241m.\u001b[39mmean()\n",
      "\u001b[0;31mRuntimeError\u001b[0m: mean(): could not infer output dtype. Input dtype must be either a floating point or complex dtype. Got: Long"
     ]
    }
   ],
   "source": [
    "torch.mean(dummy), dummy.mean()"
   ]
  },
  {
   "cell_type": "markdown",
   "metadata": {},
   "source": [
    "The error massege says that it's a data type error. So, we can change the datatype to `floating point`."
   ]
  },
  {
   "cell_type": "code",
   "execution_count": 124,
   "metadata": {},
   "outputs": [
    {
     "data": {
      "text/plain": [
       "(tensor(515.6667), tensor(515.6667))"
      ]
     },
     "execution_count": 124,
     "metadata": {},
     "output_type": "execute_result"
    }
   ],
   "source": [
    "torch.mean(dummy.type(torch.float32)), dummy.type(torch.float32).mean()"
   ]
  },
  {
   "cell_type": "markdown",
   "metadata": {},
   "source": [
    "# ArgMax\n",
    "\n",
    "Returns the position of the largest value."
   ]
  },
  {
   "cell_type": "code",
   "execution_count": 125,
   "metadata": {},
   "outputs": [
    {
     "data": {
      "text/plain": [
       "(tensor(4), tensor(4))"
      ]
     },
     "execution_count": 125,
     "metadata": {},
     "output_type": "execute_result"
    }
   ],
   "source": [
    "torch.argmax(dummy), dummy.argmax()"
   ]
  },
  {
   "cell_type": "markdown",
   "metadata": {},
   "source": [
    "# Argmin\n",
    "\n",
    "Returns the position of the smallest value in the tensor."
   ]
  },
  {
   "cell_type": "code",
   "execution_count": 126,
   "metadata": {},
   "outputs": [
    {
     "data": {
      "text/plain": [
       "(tensor(2), tensor(2))"
      ]
     },
     "execution_count": 126,
     "metadata": {},
     "output_type": "execute_result"
    }
   ],
   "source": [
    "torch.argmin(dummy), dummy.argmin()"
   ]
  },
  {
   "cell_type": "markdown",
   "metadata": {},
   "source": [
    "# Squeeze\n",
    "\n",
    "Removes the dimension with the shape of 1."
   ]
  },
  {
   "cell_type": "code",
   "execution_count": 127,
   "metadata": {},
   "outputs": [
    {
     "name": "stdout",
     "output_type": "stream",
     "text": [
      "shape of the dummy tensor: torch.Size([2, 1, 3, 4])\n",
      "shape of squeezed dummy tensor: (torch.Size([2, 3, 4]), torch.Size([2, 3, 4]))\n"
     ]
    }
   ],
   "source": [
    "print(f'shape of the dummy tensor: {dummy.shape}')\n",
    "print(f'shape of squeezed dummy tensor: {dummy.squeeze().shape,torch.squeeze(dummy).shape}')"
   ]
  },
  {
   "cell_type": "markdown",
   "metadata": {},
   "source": [
    "The 4 dimensional tensor became 3-dimensional because of squeeze."
   ]
  },
  {
   "cell_type": "markdown",
   "metadata": {},
   "source": [
    "# Unsqueeze\n",
    "\n",
    "Add a dimension in the position of your choice."
   ]
  },
  {
   "cell_type": "code",
   "execution_count": 128,
   "metadata": {},
   "outputs": [
    {
     "name": "stdout",
     "output_type": "stream",
     "text": [
      "shape of the dummy tensor: torch.Size([2, 1, 3, 4])\n",
      "shape of unsqueezed dummy tensor: (torch.Size([2, 1, 3, 1, 4]), torch.Size([2, 1, 3, 1, 4]))\n"
     ]
    }
   ],
   "source": [
    "print(f'shape of the dummy tensor: {dummy.shape}')\n",
    "print(f'shape of unsqueezed dummy tensor: {dummy.unsqueeze(3).shape, torch.unsqueeze(dummy, dim=(3)).shape}')"
   ]
  },
  {
   "cell_type": "markdown",
   "metadata": {},
   "source": [
    "# Permute\n",
    "\n",
    "Rearranging the dimension."
   ]
  },
  {
   "cell_type": "code",
   "execution_count": 129,
   "metadata": {},
   "outputs": [
    {
     "data": {
      "text/plain": [
       "torch.Size([3, 1, 2, 4])"
      ]
     },
     "execution_count": 129,
     "metadata": {},
     "output_type": "execute_result"
    }
   ],
   "source": [
    "dummy.permute(dims=(2,1,0,3)).shape"
   ]
  },
  {
   "cell_type": "markdown",
   "metadata": {},
   "source": [
    "> 🗨 Read the doc in the official pytorch website to have more in depth knowledge of these useful functions."
   ]
  },
  {
   "cell_type": "markdown",
   "metadata": {},
   "source": [
    "OKAY!!!\n",
    "\n",
    "You have done it and reached the end of the this article and I hope you have learned a lot of new things on pytorch.\n",
    "\n",
    "The next article we will make our first Deep leaning model and learn a lot of deep knowledge about Deep learning.\n",
    "\n",
    "# Stay tuned and HAPPY CODING."
   ]
  }
 ],
 "metadata": {
  "kernelspec": {
   "display_name": "ML_ENV",
   "language": "python",
   "name": "python3"
  },
  "language_info": {
   "codemirror_mode": {
    "name": "ipython",
    "version": 3
   },
   "file_extension": ".py",
   "mimetype": "text/x-python",
   "name": "python",
   "nbconvert_exporter": "python",
   "pygments_lexer": "ipython3",
   "version": "3.11.0"
  }
 },
 "nbformat": 4,
 "nbformat_minor": 2
}
